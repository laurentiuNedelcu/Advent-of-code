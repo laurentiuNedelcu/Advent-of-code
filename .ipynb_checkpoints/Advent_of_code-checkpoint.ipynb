{
 "cells": [
  {
   "cell_type": "markdown",
   "metadata": {},
   "source": [
    "## Advent of Code 2020"
   ]
  },
  {
   "cell_type": "markdown",
   "metadata": {},
   "source": [
    "### Trobar parella de suma que doni 2020"
   ]
  },
  {
   "cell_type": "code",
   "execution_count": null,
   "metadata": {},
   "outputs": [],
   "source": [
    "def main():\n",
    "    years = open(\"input.txt\", \"r\")\n",
    "    v = [int(year) for year in years]\n",
    "    v = sorted(v)\n",
    "    res = (find_sum(0, len(v) - 1, v, 2020))\n",
    "    return res[0] * res[1]\n",
    "\n",
    "def find_sum(start, finish, v, objective):\n",
    "    \n",
    "    if v[start] + v[finish] == objective:\n",
    "        return (v[start], v[finish])\n",
    "    \n",
    "    if v[start] + v[finish] > objective:\n",
    "        return find_sum(start, finish - 1, v, objective)\n",
    "    \n",
    "    if v[start] + v[finish] < objective:\n",
    "        return find_sum(start + 1, finish, v, objective)\n",
    "    \n",
    "main()"
   ]
  },
  {
   "cell_type": "markdown",
   "metadata": {},
   "source": [
    "### Trobar trio de suma que doni 2020"
   ]
  },
  {
   "cell_type": "code",
   "execution_count": 50,
   "metadata": {},
   "outputs": [
    {
     "data": {
      "text/plain": [
       "199300880"
      ]
     },
     "execution_count": 50,
     "metadata": {},
     "output_type": "execute_result"
    }
   ],
   "source": [
    "def main():\n",
    "    years = open(\"input.txt\", \"r\")\n",
    "    v = [int(year) for year in years]\n",
    "    v = sorted(v)\n",
    "    res = find_sum(0, 1, 2, v, 2020, 0.8)\n",
    "    return res[0] * res[1] * res[2]\n",
    "\n",
    "def find_sum(smaller, middle, bigger, v, objective, alpha, reverse=False):\n",
    "    \n",
    "    if not reverse:\n",
    "        if v[smaller] + v[middle] + v[bigger] == objective:\n",
    "            return (v[smaller], v[middle], v[bigger])\n",
    "\n",
    "        if bigger < len(v) - 1 and v[smaller] + v[middle] + v[bigger] < objective:\n",
    "            return find_sum(smaller, middle, bigger + 1, v, objective, alpha)\n",
    "\n",
    "        if middle < len(v) - 1 and v[smaller] + v[middle] + v[bigger] < objective:\n",
    "            return find_sum(smaller, middle + 1, bigger, v, objective, alpha)\n",
    "\n",
    "        if smaller < len(v) - 1 and v[smaller] + v[middle] + v[bigger] < objective:\n",
    "            return find_sum(smaller + 1, middle, bigger, v, objective, alpha)\n",
    "    \n",
    "    \n",
    "    if bigger > 0:\n",
    "        \n",
    "        if v[smaller] + v[middle] + v[bigger] > objective * alpha:\n",
    "            return find_sum(smaller, middle, bigger - 1, v, objective, alpha, True)\n",
    "    \n",
    "        if middle < len(v) - 1 and v[smaller] + v[middle] + v[bigger] < objective:\n",
    "            return find_sum(smaller, middle + 1, bigger, v, objective, alpha)\n",
    "\n",
    "        if smaller < len(v) - 1 and v[smaller] + v[middle] + v[bigger] < objective:\n",
    "            return find_sum(smaller + 1, middle, bigger, v, objective, alpha)\n",
    "    \n",
    "    if middle > 0:\n",
    "        \n",
    "        if v[smaller] + v[middle] + v[bigger] > objective * alpha:\n",
    "            return find_sum(smaller, middle - 1, bigger, v, objective, alpha, True)\n",
    "        \n",
    "        if smaller < len(v) - 1 and v[smaller] + v[middle] + v[bigger] < objective:\n",
    "            return find_sum(smaller + 1, middle, bigger, v, objective, alpha)\n",
    "    \n",
    "    if smaller > 0 and v[smaller] + v[middle] + v[bigger] > objective * alpha:\n",
    "        return find_sum(smaller - 1, middle, bigger, v, objective, alpha, True)\n",
    "    \n",
    "    print(\"No hi existeix cap combinació\")\n",
    "    return None\n",
    "    \n",
    "main()"
   ]
  },
  {
   "cell_type": "markdown",
   "metadata": {},
   "source": [
    "### Password Philosophy"
   ]
  },
  {
   "cell_type": "code",
   "execution_count": 25,
   "metadata": {},
   "outputs": [
    {
     "data": {
      "text/plain": [
       "454"
      ]
     },
     "execution_count": 25,
     "metadata": {},
     "output_type": "execute_result"
    }
   ],
   "source": [
    "def main():\n",
    "    passwords = open(\"passwords.txt\", \"r\")\n",
    "    valid_passwords = [] # Could use a count\n",
    "    invalid_passwords = []\n",
    "    for line in passwords:\n",
    "        min_chr, max_chr, current_chr, current_psw = get_attr(line)\n",
    "        n_times = current_psw.count(current_chr)\n",
    "        if min_chr <= n_times <= max_chr:\n",
    "            valid_passwords.append([min_chr, max_chr, current_chr, current_psw, n_times])\n",
    "        else:\n",
    "            invalid_passwords.append([min_chr, max_chr, current_chr, current_psw, n_times])\n",
    "    return len(valid_passwords)\n",
    "\n",
    "def get_attr(line):\n",
    "    psw = line.split(': ')\n",
    "    current_psw = psw[1][:len(psw[1])-1]\n",
    "    police_psw = psw[0].split()\n",
    "    current_chr = police_psw[1]\n",
    "    values = police_psw[0].split('-')\n",
    "    min_chr = int(values[0])\n",
    "    max_chr = int(values[1])\n",
    "    return (min_chr, max_chr, current_chr, current_psw)\n",
    "    \n",
    "main()"
   ]
  },
  {
   "cell_type": "markdown",
   "metadata": {},
   "source": [
    "### Password by position"
   ]
  },
  {
   "cell_type": "code",
   "execution_count": 31,
   "metadata": {},
   "outputs": [
    {
     "data": {
      "text/plain": [
       "649"
      ]
     },
     "execution_count": 31,
     "metadata": {},
     "output_type": "execute_result"
    }
   ],
   "source": [
    "def main():\n",
    "    passwords = open(\"passwords.txt\", \"r\")\n",
    "    valid_passwords = [] # Could use a count\n",
    "    invalid_passwords = []\n",
    "    for line in passwords:\n",
    "        fst_pos, sec_pos, current_chr, current_psw = get_attr(line)\n",
    "        if (current_psw[fst_pos] == current_chr) ^ (current_psw[sec_pos] == current_chr): # XOR \n",
    "            valid_passwords.append([fst_pos, sec_pos, current_chr, current_psw])\n",
    "        else:\n",
    "            invalid_passwords.append([fst_pos, sec_pos, current_chr, current_psw])\n",
    "    return len(valid_passwords)\n",
    "\n",
    "def get_attr(line):\n",
    "    psw = line.split(': ')\n",
    "    current_psw = psw[1][:len(psw[1])-1]\n",
    "    police_psw = psw[0].split()\n",
    "    current_chr = police_psw[1]\n",
    "    values = police_psw[0].split('-')\n",
    "    min_chr = int(values[0])\n",
    "    max_chr = int(values[1])\n",
    "    return (min_chr - 1, max_chr - 1, current_chr, current_psw)\n",
    "    \n",
    "main()"
   ]
  },
  {
   "cell_type": "markdown",
   "metadata": {},
   "source": [
    "### Toboggan Trajectory"
   ]
  },
  {
   "cell_type": "code",
   "execution_count": 43,
   "metadata": {},
   "outputs": [
    {
     "data": {
      "text/plain": [
       "237"
      ]
     },
     "execution_count": 43,
     "metadata": {},
     "output_type": "execute_result"
    }
   ],
   "source": [
    "def main():\n",
    "    trees = [j for i in open(\"trees.txt\").readlines() for j in i.strip().split()]\n",
    "    return find_n_trees(trees, 1, 3)\n",
    "    \n",
    "def find_n_trees(trees, i, j):\n",
    "    if trees[i][j] == '#':\n",
    "        if i + 1 < len(trees):\n",
    "            if j + 3 >= len(trees[0]):\n",
    "                j = (j + 3) % len(trees[0])\n",
    "            else:\n",
    "                j = j + 3\n",
    "            return 1 + find_n_trees(trees, i+1, j)\n",
    "        return 1\n",
    "    if i + 1 < len(trees):\n",
    "        if j + 3 >= len(trees[0]):\n",
    "            j = (j + 3) % len(trees[0])\n",
    "        else:\n",
    "            j = j + 3\n",
    "        return find_n_trees(trees, i+1, j)\n",
    "    return 0\n",
    "\n",
    "main()"
   ]
  },
  {
   "cell_type": "markdown",
   "metadata": {},
   "source": [
    "### Toboggan Trajectory n patterns"
   ]
  },
  {
   "cell_type": "code",
   "execution_count": 44,
   "metadata": {},
   "outputs": [
    {
     "data": {
      "text/plain": [
       "2106818610"
      ]
     },
     "execution_count": 44,
     "metadata": {},
     "output_type": "execute_result"
    }
   ],
   "source": [
    "def main():\n",
    "    trees = [j for i in open(\"trees.txt\").readlines() for j in i.strip().split()]\n",
    "    return find_n_trees(trees, 1, 3, 1, 3) * find_n_trees(trees, 1, 1, 1, 1) * find_n_trees(trees, 1, 5, 1, 5) * find_n_trees(trees, 1, 7, 1, 7) * find_n_trees(trees, 2, 1, 2, 1)\n",
    "    \n",
    "def find_n_trees(trees, i, j, i_step, j_step):\n",
    "    if trees[i][j] == '#':\n",
    "        if i + i_step < len(trees):\n",
    "            if j + j_step >= len(trees[0]):\n",
    "                j = (j + j_step) % len(trees[0])\n",
    "            else:\n",
    "                j = j + j_step\n",
    "            return 1 + find_n_trees(trees, i+i_step, j, i_step, j_step)\n",
    "        return 1\n",
    "    if i + i_step < len(trees):\n",
    "        if j + j_step >= len(trees[0]):\n",
    "            j = (j + j_step) % len(trees[0])\n",
    "        else:\n",
    "            j = j + j_step\n",
    "        return find_n_trees(trees, i+i_step, j, i_step, j_step)\n",
    "    return 0\n",
    "\n",
    "main()"
   ]
  },
  {
   "cell_type": "markdown",
   "metadata": {},
   "source": [
    "### Detect Passports"
   ]
  },
  {
   "cell_type": "code",
   "execution_count": 46,
   "metadata": {},
   "outputs": [
    {
     "data": {
      "text/plain": [
       "200"
      ]
     },
     "execution_count": 46,
     "metadata": {},
     "output_type": "execute_result"
    }
   ],
   "source": [
    "def main():\n",
    "    passports = open(\"passports.txt\", \"r\").read().split('\\n\\n')\n",
    "    valids = 0\n",
    "    for passport in passports:\n",
    "        if 'byr' in passport and 'iyr' in passport and 'eyr' in passport and 'hgt' in passport and 'hcl' in passport and 'ecl' in passport and 'pid' in passport:\n",
    "            valids += 1\n",
    "    return valids\n",
    "main()"
   ]
  },
  {
   "cell_type": "markdown",
   "metadata": {},
   "source": [
    "### Validating passports"
   ]
  },
  {
   "cell_type": "code",
   "execution_count": 62,
   "metadata": {},
   "outputs": [
    {
     "data": {
      "text/plain": [
       "116"
      ]
     },
     "execution_count": 62,
     "metadata": {},
     "output_type": "execute_result"
    }
   ],
   "source": [
    "import string\n",
    "def main():\n",
    "    dct = {}\n",
    "    passports = open(\"passports.txt\", \"r\").read().split('\\n\\n')\n",
    "    valid_passports = 0\n",
    "    v = []\n",
    "    for i in range(len(passports)):\n",
    "        if valid_elements(passports[i]):\n",
    "            fields = passports[i].split()\n",
    "            valid = True\n",
    "            for field in fields:\n",
    "                if valid and 'byr' in field:\n",
    "                    year = int(field.split(':')[1])\n",
    "                    if year > 2002 or year < 1920:\n",
    "                        valid = False\n",
    "                if valid and 'eyr' in field:\n",
    "                    year = int(field.split(':')[1])\n",
    "                    if year > 2030 or year < 2020:\n",
    "                        valid = False\n",
    "                if valid and 'iyr' in field:\n",
    "                    year = int(field.split(':')[1])\n",
    "                    if year > 2020 or year < 2010:\n",
    "                        valid = False\n",
    "                if valid and 'hgt' in field:\n",
    "                    height = field.split(':')[1]\n",
    "                    if 'cm' in height and len(height) == 5:\n",
    "                        cm = int(height[:3])\n",
    "                        if cm > 193 or cm < 150:\n",
    "                            valid = False       \n",
    "                    elif 'in' in height and len(height) == 4:\n",
    "                        inch = int(height[:2])\n",
    "                        if inch > 76 or inch < 59:\n",
    "                            valid = False\n",
    "                    else:\n",
    "                        valid = False\n",
    "                if valid and 'hcl' in field:\n",
    "                    hair_color = field.split(':')[1]\n",
    "                    if len(hair_color) == 7:\n",
    "                        if hair_color[0] == '#':\n",
    "                            if hair_color[1:].isalnum():\n",
    "                                for char in hair_color[1:]:\n",
    "                                    if char.isalpha():\n",
    "                                        if char in string.ascii_lowercase[7:] or char.isupper():\n",
    "                                            print(hair_color)\n",
    "                                            valid = False\n",
    "                            else:\n",
    "                                valid = False\n",
    "                        else:\n",
    "                            valid = False\n",
    "                    else:\n",
    "                        valid = False\n",
    "                if valid and 'ecl' in field:\n",
    "                    eye_color = field.split(':')[1]\n",
    "                    if eye_color not in ['amb', 'blu', 'brn', 'gry', 'grn', 'hzl', 'oth']:\n",
    "                        valid = False\n",
    "                if valid and 'pid' in field:\n",
    "                    pid = field.split(':')[1]\n",
    "                    if len(pid) == 9:\n",
    "                        if not pid.isdigit():\n",
    "                            valid = False\n",
    "                    else:\n",
    "                        valid = False\n",
    "            if valid:\n",
    "                valid_passports += 1\n",
    "            else:\n",
    "                v.append(fields)\n",
    "    #print(v)\n",
    "    return valid_passports\n",
    "\n",
    "def valid_elements(passport):\n",
    "    if 'byr' in passport and 'iyr' in passport and 'eyr' in passport and 'hgt' in passport and 'hcl' in passport and 'ecl' in passport and 'pid' in passport:\n",
    "        return True\n",
    "    return False\n",
    "\n",
    "main()"
   ]
  },
  {
   "cell_type": "markdown",
   "metadata": {},
   "source": [
    "### Binary Boarding"
   ]
  },
  {
   "cell_type": "code",
   "execution_count": 129,
   "metadata": {},
   "outputs": [
    {
     "data": {
      "text/plain": [
       "989"
      ]
     },
     "execution_count": 129,
     "metadata": {},
     "output_type": "execute_result"
    }
   ],
   "source": [
    "def main():\n",
    "    board = open('boarders.txt','r').read().split()\n",
    "    return max(get_all_ids(board))\n",
    "\n",
    "def get_all_ids(board):\n",
    "    return [get_id(get_row(b[:7]), get_col(b[7:])) for b in board]\n",
    "    \n",
    "def get_row(board):\n",
    "    return int(''.join(['0' if b == 'F' else '1' for b in board]), 2)\n",
    "            \n",
    "def get_col(board):\n",
    "    return int(''.join(['0' if b == 'L' else '1' for b in board]), 2)\n",
    "    \n",
    "def get_id(row, col):\n",
    "    return 8 * row + col\n",
    "\n",
    "main()"
   ]
  },
  {
   "cell_type": "markdown",
   "metadata": {},
   "source": [
    "### Get my seat"
   ]
  },
  {
   "cell_type": "code",
   "execution_count": 134,
   "metadata": {},
   "outputs": [
    {
     "data": {
      "text/plain": [
       "548"
      ]
     },
     "execution_count": 134,
     "metadata": {},
     "output_type": "execute_result"
    }
   ],
   "source": [
    "def main():\n",
    "    board = open('boarders.txt','r').read().split()\n",
    "    return get_my_id(get_all_ids(board))\n",
    "\n",
    "def get_all_ids(board):\n",
    "    return [get_id(get_row(b[:7]), get_col(b[7:])) for b in board]\n",
    "    \n",
    "def get_row(board):\n",
    "    return int(''.join(['0' if b == 'F' else '1' for b in board]), 2)\n",
    "            \n",
    "def get_col(board):\n",
    "    return int(''.join(['0' if b == 'L' else '1' for b in board]), 2)\n",
    "    \n",
    "def get_id(row, col):\n",
    "    return 8 * row + col\n",
    "\n",
    "def get_my_id(ids):\n",
    "    for i in range(max(ids)):\n",
    "        if i not in ids and i - 1 in ids and i + 1 in ids:\n",
    "            return i\n",
    "main()"
   ]
  },
  {
   "cell_type": "code",
   "execution_count": null,
   "metadata": {},
   "outputs": [],
   "source": []
  }
 ],
 "metadata": {
  "kernelspec": {
   "display_name": "Python 3",
   "language": "python",
   "name": "python3"
  },
  "language_info": {
   "codemirror_mode": {
    "name": "ipython",
    "version": 3
   },
   "file_extension": ".py",
   "mimetype": "text/x-python",
   "name": "python",
   "nbconvert_exporter": "python",
   "pygments_lexer": "ipython3",
   "version": "3.7.3"
  }
 },
 "nbformat": 4,
 "nbformat_minor": 2
}
