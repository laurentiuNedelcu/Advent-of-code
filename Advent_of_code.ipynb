{
 "cells": [
  {
   "cell_type": "markdown",
   "metadata": {},
   "source": [
    "## Advent of Code 2020"
   ]
  },
  {
   "cell_type": "markdown",
   "metadata": {},
   "source": [
    "### Trobar parella de suma que doni 2020"
   ]
  },
  {
   "cell_type": "code",
   "execution_count": null,
   "metadata": {},
   "outputs": [],
   "source": [
    "def main():\n",
    "    years = open(\"input.txt\", \"r\")\n",
    "    v = [int(year) for year in years]\n",
    "    v = sorted(v)\n",
    "    res = (find_sum(0, len(v) - 1, v, 2020))\n",
    "    return res[0] * res[1]\n",
    "\n",
    "def find_sum(start, finish, v, objective):\n",
    "    \n",
    "    if v[start] + v[finish] == objective:\n",
    "        return (v[start], v[finish])\n",
    "    \n",
    "    if v[start] + v[finish] > objective:\n",
    "        return find_sum(start, finish - 1, v, objective)\n",
    "    \n",
    "    if v[start] + v[finish] < objective:\n",
    "        return find_sum(start + 1, finish, v, objective)\n",
    "    \n",
    "main()"
   ]
  },
  {
   "cell_type": "markdown",
   "metadata": {},
   "source": [
    "### Trobar trio de suma que doni 2020"
   ]
  },
  {
   "cell_type": "code",
   "execution_count": 50,
   "metadata": {},
   "outputs": [
    {
     "data": {
      "text/plain": [
       "199300880"
      ]
     },
     "execution_count": 50,
     "metadata": {},
     "output_type": "execute_result"
    }
   ],
   "source": [
    "def main():\n",
    "    years = open(\"input.txt\", \"r\")\n",
    "    v = [int(year) for year in years]\n",
    "    v = sorted(v)\n",
    "    res = find_sum(0, 1, 2, v, 2020, 0.8)\n",
    "    return res[0] * res[1] * res[2]\n",
    "\n",
    "def find_sum(smaller, middle, bigger, v, objective, alpha, reverse=False):\n",
    "    \n",
    "    if not reverse:\n",
    "        if v[smaller] + v[middle] + v[bigger] == objective:\n",
    "            return (v[smaller], v[middle], v[bigger])\n",
    "\n",
    "        if bigger < len(v) - 1 and v[smaller] + v[middle] + v[bigger] < objective:\n",
    "            return find_sum(smaller, middle, bigger + 1, v, objective, alpha)\n",
    "\n",
    "        if middle < len(v) - 1 and v[smaller] + v[middle] + v[bigger] < objective:\n",
    "            return find_sum(smaller, middle + 1, bigger, v, objective, alpha)\n",
    "\n",
    "        if smaller < len(v) - 1 and v[smaller] + v[middle] + v[bigger] < objective:\n",
    "            return find_sum(smaller + 1, middle, bigger, v, objective, alpha)\n",
    "    \n",
    "    \n",
    "    if bigger > 0:\n",
    "        \n",
    "        if v[smaller] + v[middle] + v[bigger] > objective * alpha:\n",
    "            return find_sum(smaller, middle, bigger - 1, v, objective, alpha, True)\n",
    "    \n",
    "        if middle < len(v) - 1 and v[smaller] + v[middle] + v[bigger] < objective:\n",
    "            return find_sum(smaller, middle + 1, bigger, v, objective, alpha)\n",
    "\n",
    "        if smaller < len(v) - 1 and v[smaller] + v[middle] + v[bigger] < objective:\n",
    "            return find_sum(smaller + 1, middle, bigger, v, objective, alpha)\n",
    "    \n",
    "    if middle > 0:\n",
    "        \n",
    "        if v[smaller] + v[middle] + v[bigger] > objective * alpha:\n",
    "            return find_sum(smaller, middle - 1, bigger, v, objective, alpha, True)\n",
    "        \n",
    "        if smaller < len(v) - 1 and v[smaller] + v[middle] + v[bigger] < objective:\n",
    "            return find_sum(smaller + 1, middle, bigger, v, objective, alpha)\n",
    "    \n",
    "    if smaller > 0 and v[smaller] + v[middle] + v[bigger] > objective * alpha:\n",
    "        return find_sum(smaller - 1, middle, bigger, v, objective, alpha, True)\n",
    "    \n",
    "    print(\"No hi existeix cap combinació\")\n",
    "    return None\n",
    "    \n",
    "main()"
   ]
  },
  {
   "cell_type": "markdown",
   "metadata": {},
   "source": [
    "### Password Philosophy"
   ]
  },
  {
   "cell_type": "code",
   "execution_count": 25,
   "metadata": {},
   "outputs": [
    {
     "data": {
      "text/plain": [
       "454"
      ]
     },
     "execution_count": 25,
     "metadata": {},
     "output_type": "execute_result"
    }
   ],
   "source": [
    "def main():\n",
    "    passwords = open(\"passwords.txt\", \"r\")\n",
    "    valid_passwords = [] # Could use a count\n",
    "    invalid_passwords = []\n",
    "    for line in passwords:\n",
    "        min_chr, max_chr, current_chr, current_psw = get_attr(line)\n",
    "        n_times = current_psw.count(current_chr)\n",
    "        if min_chr <= n_times <= max_chr:\n",
    "            valid_passwords.append([min_chr, max_chr, current_chr, current_psw, n_times])\n",
    "        else:\n",
    "            invalid_passwords.append([min_chr, max_chr, current_chr, current_psw, n_times])\n",
    "    return len(valid_passwords)\n",
    "\n",
    "def get_attr(line):\n",
    "    psw = line.split(': ')\n",
    "    current_psw = psw[1][:len(psw[1])-1]\n",
    "    police_psw = psw[0].split()\n",
    "    current_chr = police_psw[1]\n",
    "    values = police_psw[0].split('-')\n",
    "    min_chr = int(values[0])\n",
    "    max_chr = int(values[1])\n",
    "    return (min_chr, max_chr, current_chr, current_psw)\n",
    "    \n",
    "main()"
   ]
  },
  {
   "cell_type": "markdown",
   "metadata": {},
   "source": [
    "### Password by position"
   ]
  },
  {
   "cell_type": "code",
   "execution_count": 31,
   "metadata": {},
   "outputs": [
    {
     "data": {
      "text/plain": [
       "649"
      ]
     },
     "execution_count": 31,
     "metadata": {},
     "output_type": "execute_result"
    }
   ],
   "source": [
    "def main():\n",
    "    passwords = open(\"passwords.txt\", \"r\")\n",
    "    valid_passwords = [] # Could use a count\n",
    "    invalid_passwords = []\n",
    "    for line in passwords:\n",
    "        fst_pos, sec_pos, current_chr, current_psw = get_attr(line)\n",
    "        if (current_psw[fst_pos] == current_chr) ^ (current_psw[sec_pos] == current_chr): # XOR \n",
    "            valid_passwords.append([fst_pos, sec_pos, current_chr, current_psw])\n",
    "        else:\n",
    "            invalid_passwords.append([fst_pos, sec_pos, current_chr, current_psw])\n",
    "    return len(valid_passwords)\n",
    "\n",
    "def get_attr(line):\n",
    "    psw = line.split(': ')\n",
    "    current_psw = psw[1][:len(psw[1])-1]\n",
    "    police_psw = psw[0].split()\n",
    "    current_chr = police_psw[1]\n",
    "    values = police_psw[0].split('-')\n",
    "    min_chr = int(values[0])\n",
    "    max_chr = int(values[1])\n",
    "    return (min_chr - 1, max_chr - 1, current_chr, current_psw)\n",
    "    \n",
    "main()"
   ]
  },
  {
   "cell_type": "code",
   "execution_count": null,
   "metadata": {},
   "outputs": [],
   "source": []
  }
 ],
 "metadata": {
  "kernelspec": {
   "display_name": "Python 3",
   "language": "python",
   "name": "python3"
  },
  "language_info": {
   "codemirror_mode": {
    "name": "ipython",
    "version": 3
   },
   "file_extension": ".py",
   "mimetype": "text/x-python",
   "name": "python",
   "nbconvert_exporter": "python",
   "pygments_lexer": "ipython3",
   "version": "3.7.3"
  }
 },
 "nbformat": 4,
 "nbformat_minor": 2
}
